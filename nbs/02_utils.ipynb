{
 "cells": [
  {
   "cell_type": "markdown",
   "metadata": {},
   "source": [
    "# Utils\n",
    "\n",
    "> utils"
   ]
  },
  {
   "cell_type": "code",
   "execution_count": null,
   "metadata": {},
   "outputs": [],
   "source": [
    "#| default_exp utils"
   ]
  },
  {
   "cell_type": "code",
   "execution_count": null,
   "metadata": {},
   "outputs": [],
   "source": [
    "#| hide\n",
    "from nbdev.showdoc import *"
   ]
  },
  {
   "cell_type": "code",
   "execution_count": null,
   "metadata": {},
   "outputs": [],
   "source": [
    "#| export\n",
    "import math\n",
    "def gradient_to_spline_angle(m:float # Gradient of the spline in the x-z plane.\n",
    "                             )->float: # Angle of the spline starting from the north direction going anti-clockwise.\n",
    "    \"Function to convert the gradient of the spline in the x-z plane to the angle of the spline starting from the north direction going anti-clockwise.\"\n",
    "    if m == float('inf'):\n",
    "        angle = 0\n",
    "    elif m <= 0:\n",
    "        angle = math.pi / 2 - math.atan(-m)\n",
    "    else:\n",
    "        angle = math.atan(m) + math.pi / 2\n",
    "    return angle"
   ]
  },
  {
   "cell_type": "code",
   "execution_count": null,
   "metadata": {},
   "outputs": [
    {
     "data": {
      "text/markdown": [
       "---\n",
       "\n",
       "### gradient_to_spline_angle\n",
       "\n",
       ">      gradient_to_spline_angle (m:float)\n",
       "\n",
       "*Function to convert the gradient of the spline in the x-z plane to the angle of the spline starting from the north direction going anti-clockwise.*\n",
       "\n",
       "|    | **Type** | **Details** |\n",
       "| -- | -------- | ----------- |\n",
       "| m | float | Gradient of the spline in the x-z plane. |\n",
       "| **Returns** | **float** | **Angle of the spline starting from the north direction going anti-clockwise.** |"
      ],
      "text/plain": [
       "---\n",
       "\n",
       "### gradient_to_spline_angle\n",
       "\n",
       ">      gradient_to_spline_angle (m:float)\n",
       "\n",
       "*Function to convert the gradient of the spline in the x-z plane to the angle of the spline starting from the north direction going anti-clockwise.*\n",
       "\n",
       "|    | **Type** | **Details** |\n",
       "| -- | -------- | ----------- |\n",
       "| m | float | Gradient of the spline in the x-z plane. |\n",
       "| **Returns** | **float** | **Angle of the spline starting from the north direction going anti-clockwise.** |"
      ]
     },
     "execution_count": null,
     "metadata": {},
     "output_type": "execute_result"
    }
   ],
   "source": [
    "show_doc(gradient_to_spline_angle)"
   ]
  },
  {
   "cell_type": "code",
   "execution_count": null,
   "metadata": {},
   "outputs": [],
   "source": [
    "#| hide\n",
    "import nbdev; nbdev.nbdev_export()"
   ]
  }
 ],
 "metadata": {
  "kernelspec": {
   "display_name": "python3",
   "language": "python",
   "name": "python3"
  }
 },
 "nbformat": 4,
 "nbformat_minor": 2
}
