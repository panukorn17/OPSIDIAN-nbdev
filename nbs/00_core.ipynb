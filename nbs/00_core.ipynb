{
 "cells": [
  {
   "cell_type": "markdown",
   "metadata": {},
   "source": [
    "# core\n",
    "\n",
    "> Fill in a module description here"
   ]
  },
  {
   "cell_type": "code",
   "execution_count": null,
   "metadata": {},
   "outputs": [],
   "source": [
    "#| default_exp core"
   ]
  },
  {
   "cell_type": "code",
   "execution_count": null,
   "metadata": {},
   "outputs": [],
   "source": [
    "#| export\n",
    "import sys\n",
    "sys.path.append(\"..\")\n",
    "freecad_path = r\"C:\\Program Files\\FreeCAD 0.21\\bin\"\n",
    "cfdof_path = r'C:\\Users\\ASUS\\AppData\\Roaming\\FreeCAD\\Mod\\CfdOF'\n",
    "if freecad_path not in sys.path:    \n",
    "    sys.path.append(freecad_path)\n",
    "if cfdof_path not in sys.path:    \n",
    "    sys.path.append(cfdof_path)"
   ]
  },
  {
   "cell_type": "code",
   "execution_count": null,
   "metadata": {},
   "outputs": [],
   "source": [
    "#| export\n",
    "import FreeCAD as App"
   ]
  },
  {
   "cell_type": "code",
   "execution_count": null,
   "metadata": {},
   "outputs": [],
   "source": [
    "#| hide\n",
    "import subprocess\n",
    "import sys\n",
    "import os\n",
    "def run_in_env(env_name, code):\n",
    "    # Determine the correct activate command based on the OS\n",
    "    if sys.platform.startswith('win'):\n",
    "        activate_cmd = f\"conda activate {env_name} &&\"\n",
    "    else:\n",
    "        activate_cmd = f\"source activate {env_name} &&\"\n",
    "    \n",
    "    # Create a temporary script file\n",
    "    with open(\"temp_script.py\", \"w\") as f:\n",
    "        f.write(code)\n",
    "    \n",
    "    # Run the script in the specified environment\n",
    "    cmd = f\"{activate_cmd} python temp_script.py\"\n",
    "    result = subprocess.run(cmd, shell=True, capture_output=True, text=True)\n",
    "    \n",
    "    # Print the output\n",
    "    print(result.stdout)\n",
    "    if result.stderr:\n",
    "        print(\"Errors:\", result.stderr)\n",
    "    \n",
    "    # Clean up\n",
    "    os.remove(\"temp_script.py\")"
   ]
  },
  {
   "cell_type": "code",
   "execution_count": null,
   "metadata": {},
   "outputs": [
    {
     "name": "stdout",
     "output_type": "stream",
     "text": [
      "\n"
     ]
    }
   ],
   "source": [
    "#| hide\n",
    "run_in_env(\"opsidian\", \"\"\"\n",
    "from nbdev.showdoc import *\n",
    "\"\"\")"
   ]
  },
  {
   "cell_type": "code",
   "execution_count": null,
   "metadata": {},
   "outputs": [],
   "source": [
    "#| hide\n",
    "#import sys\n",
    "from pathlib import Path\n",
    "import sys\n",
    "sys.path.append(\"..\")"
   ]
  },
  {
   "cell_type": "code",
   "execution_count": null,
   "metadata": {},
   "outputs": [],
   "source": [
    "#| hide\n",
    "# Import FreeCAD modules\n",
    "#import FreeCAD as App\n",
    "#import FreeCADGui as Gui"
   ]
  },
  {
   "cell_type": "markdown",
   "metadata": {},
   "source": [
    "Import help functions"
   ]
  },
  {
   "cell_type": "code",
   "execution_count": null,
   "metadata": {},
   "outputs": [],
   "source": [
    "from OPSIDIAN_nbdev.preprocess import calculate_face_coords, generate_faces, add_spine, sweep\n",
    "from OPSIDIAN_nbdev.cfd_utils import create_analysis_container, setup_fluid_properties"
   ]
  },
  {
   "cell_type": "markdown",
   "metadata": {},
   "source": [
    "To open the FreeCAD GUI window run the following:"
   ]
  },
  {
   "cell_type": "code",
   "execution_count": null,
   "metadata": {},
   "outputs": [],
   "source": [
    "#Gui.showMainWindow()"
   ]
  },
  {
   "cell_type": "code",
   "execution_count": null,
   "metadata": {},
   "outputs": [],
   "source": [
    "doc = App.newDocument(\"draft_tube\")\n",
    "App.setActiveDocument(\"draft_tube\")\n",
    "App.ActiveDocument=App.getDocument(\"draft_tube\")\n",
    "#Gui.ActiveDocument=Gui.getDocument(\"draft_tube\")\n",
    "#Gui.activeDocument().activeView().viewDefaultOrientation()"
   ]
  },
  {
   "cell_type": "markdown",
   "metadata": {},
   "source": [
    "Generate the shape:"
   ]
  },
  {
   "cell_type": "code",
   "execution_count": null,
   "metadata": {},
   "outputs": [
    {
     "name": "stdout",
     "output_type": "stream",
     "text": [
      "Calculating face coordinates...\n",
      "Setting up fluid proberties\n"
     ]
    }
   ],
   "source": [
    "baseline_factor = [0.75, 0.25]\n",
    "base_element_size = 20 #mm\n",
    "faces_coordinate = calculate_face_coords(baseline_factor)\n",
    "face_shapes = generate_faces(faces_coordinate)\n",
    "spine = add_spine()\n",
    "sweep = sweep(face_shapes, spine)\n",
    "#create_analysis_container()\n",
    "#setup_fluid_properties()\n"
   ]
  },
  {
   "cell_type": "code",
   "execution_count": null,
   "metadata": {},
   "outputs": [],
   "source": [
    "# Save the document\n",
    "# doc.saveAs(\"FreeCAD/MyFreeCADProject.FCStd\")"
   ]
  },
  {
   "cell_type": "code",
   "execution_count": null,
   "metadata": {},
   "outputs": [
    {
     "name": "stdout",
     "output_type": "stream",
     "text": [
      "\n"
     ]
    }
   ],
   "source": [
    "#| hide\n",
    "run_in_env(\"opsidian\", \"\"\"\n",
    "import nbdev; nbdev.nbdev_export()\n",
    "\"\"\")"
   ]
  }
 ],
 "metadata": {
  "kernelspec": {
   "display_name": "freecad",
   "language": "python",
   "name": "freecad"
  }
 },
 "nbformat": 4,
 "nbformat_minor": 4
}
