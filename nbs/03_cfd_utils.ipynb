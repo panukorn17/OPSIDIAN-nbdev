{
 "cells": [
  {
   "cell_type": "markdown",
   "metadata": {},
   "source": [
    "# CFD Utils\n",
    "\n",
    "> cfd utils"
   ]
  },
  {
   "cell_type": "code",
   "execution_count": 6,
   "metadata": {},
   "outputs": [],
   "source": [
    "#| default_exp cfd_utils"
   ]
  },
  {
   "cell_type": "code",
   "execution_count": 7,
   "metadata": {},
   "outputs": [],
   "source": [
    "#| hide\n",
    "from nbdev.showdoc import *"
   ]
  },
  {
   "cell_type": "code",
   "execution_count": 8,
   "metadata": {},
   "outputs": [
    {
     "name": "stdout",
     "output_type": "stream",
     "text": [
      "Cleaned sys.path:\n",
      "c:\\Users\\ASUS\\anaconda3\\envs\\opsidian\n",
      "c:\\Users\\ASUS\\anaconda3\\envs\\opsidian\\lib\\site-packages\n",
      "C:\\Program Files\\FreeCAD 0.21\\bin\n",
      "C:\\Users\\ASUS\\AppData\\Roaming\\FreeCAD\\Mod\\CfdOF\n",
      "C:\\Users\\ASUS\\AppData\\Roaming\\Python\\Python38\\site-packages\n",
      "C:\\Users\\ASUS\\AppData\\Roaming\\Python\\Python38\\site-packages\\win32\n",
      "C:\\Users\\ASUS\\AppData\\Roaming\\Python\\Python38\\site-packages\\win32\\lib\n",
      "C:\\Users\\ASUS\\AppData\\Roaming\\Python\\Python38\\site-packages\\Pythonwin\n"
     ]
    }
   ],
   "source": [
    "#| hide\n",
    "import sys\n",
    "import os\n",
    "\n",
    "def clean_sys_path():\n",
    "    # Store the original sys.path\n",
    "    original_path = sys.path.copy()\n",
    "\n",
    "    # Essential paths (modify as needed)\n",
    "    essential_paths = [\n",
    "        '',  # Current directory\n",
    "        os.path.dirname(sys.executable),  # Python installation directory\n",
    "        os.path.join(os.path.dirname(sys.executable), 'lib', 'site-packages'),  # Site-packages\n",
    "    ]\n",
    "\n",
    "    # Add FreeCAD and CfdOF paths\n",
    "    freecad_path = r\"C:\\Program Files\\FreeCAD 0.21\\bin\"  # Adjust this path\n",
    "    cfdof_path = r'C:\\Users\\ASUS\\AppData\\Roaming\\FreeCAD\\Mod\\CfdOF'\n",
    "    essential_paths.extend([freecad_path, cfdof_path])\n",
    "\n",
    "    # Clean sys.path\n",
    "    sys.path = []\n",
    "    for path in essential_paths:\n",
    "        if path not in sys.path and os.path.exists(path):\n",
    "            sys.path.append(path)\n",
    "\n",
    "    # Add back any missing essential paths from the original sys.path\n",
    "    for path in original_path:\n",
    "        if path not in sys.path and os.path.exists(path):\n",
    "            if any(essential_keyword in path.lower() for essential_keyword in ['python', 'freecad', 'cfdof']):\n",
    "                sys.path.append(path)\n",
    "\n",
    "    print(\"Cleaned sys.path:\")\n",
    "    for path in sys.path:\n",
    "        print(path)\n",
    "\n",
    "# Run the cleaning function\n",
    "clean_sys_path()"
   ]
  },
  {
   "cell_type": "code",
   "execution_count": 9,
   "metadata": {},
   "outputs": [
    {
     "data": {
      "text/plain": [
       "['c:\\\\Users\\\\ASUS\\\\anaconda3\\\\envs\\\\opsidian',\n",
       " 'c:\\\\Users\\\\ASUS\\\\anaconda3\\\\envs\\\\opsidian\\\\lib\\\\site-packages',\n",
       " 'C:\\\\Program Files\\\\FreeCAD 0.21\\\\bin',\n",
       " 'C:\\\\Users\\\\ASUS\\\\AppData\\\\Roaming\\\\FreeCAD\\\\Mod\\\\CfdOF',\n",
       " 'C:\\\\Users\\\\ASUS\\\\AppData\\\\Roaming\\\\Python\\\\Python38\\\\site-packages',\n",
       " 'C:\\\\Users\\\\ASUS\\\\AppData\\\\Roaming\\\\Python\\\\Python38\\\\site-packages\\\\win32',\n",
       " 'C:\\\\Users\\\\ASUS\\\\AppData\\\\Roaming\\\\Python\\\\Python38\\\\site-packages\\\\win32\\\\lib',\n",
       " 'C:\\\\Users\\\\ASUS\\\\AppData\\\\Roaming\\\\Python\\\\Python38\\\\site-packages\\\\Pythonwin']"
      ]
     },
     "execution_count": 9,
     "metadata": {},
     "output_type": "execute_result"
    }
   ],
   "source": [
    "import sys\n",
    "sys.path"
   ]
  },
  {
   "cell_type": "code",
   "execution_count": 10,
   "metadata": {},
   "outputs": [],
   "source": [
    "#| export\n",
    "import FreeCAD as App\n"
   ]
  },
  {
   "cell_type": "code",
   "execution_count": 11,
   "metadata": {},
   "outputs": [],
   "source": [
    "#| export\n",
    "import CfdOF\n",
    "def create_analysis_container():\n",
    "    \"\"\"\n",
    "    Function to create the analysis container on freeCAD\n",
    "\n",
    "    Parameters:\n",
    "    shape (Part.Shape): The object to be analysed\n",
    "    \"\"\"\n",
    "    # create a cfd analysis group object\n",
    "    analysis = CfdOF.CfdAnalysis.makeCfdAnalysis('CfdAnalysis')\n",
    "    CfdOF.CfdTools.setActiveAnalysis(analysis)\n",
    "    analysis.addObject(CfdOF.Solve.CfdPhysicsSelection.makeCfdPhysicsSelection())\n",
    "    analysis.addObject(CfdOF.Solve.CfdFluidMaterial.makeCfdFluidMaterial('FluidProperties'))\n",
    "    analysis.addObject(CfdOF.Solve.CfdInitialiseFlowField.makeCfdInitialFlowField())\n",
    "    analysis.addObject(CfdOF.Solve.CfdSolverFoam.makeCfdSolverFoam())"
   ]
  },
  {
   "cell_type": "code",
   "execution_count": 12,
   "metadata": {},
   "outputs": [
    {
     "data": {
      "text/markdown": [
       "---\n",
       "\n",
       "### create_analysis_container\n",
       "\n",
       ">      create_analysis_container ()\n",
       "\n",
       "*Function to create the analysis container on freeCAD\n",
       "\n",
       "Parameters:\n",
       "shape (Part.Shape): The object to be analysed*"
      ],
      "text/plain": [
       "---\n",
       "\n",
       "### create_analysis_container\n",
       "\n",
       ">      create_analysis_container ()\n",
       "\n",
       "*Function to create the analysis container on freeCAD\n",
       "\n",
       "Parameters:\n",
       "shape (Part.Shape): The object to be analysed*"
      ]
     },
     "execution_count": 12,
     "metadata": {},
     "output_type": "execute_result"
    }
   ],
   "source": [
    "show_doc(create_analysis_container)"
   ]
  },
  {
   "cell_type": "code",
   "execution_count": 13,
   "metadata": {},
   "outputs": [],
   "source": [
    "#| export\n",
    "def setup_fluid_properties(name='Water', type='Isothermal', density='998 kg/m^3', dynamicViscosity='1.003e-3 kg/m/s'):\n",
    "    \"\"\"\n",
    "    Function to set up the fluid properties for CfdOF\n",
    "    \"\"\"\n",
    "    print(\"Setting up fluid proberties\")\n",
    "    if name == 'Water':\n",
    "        desc = 'Standard distilled water properties at 20 Degrees Celsius and 1 atm'\n",
    "        App.ActiveDocument.FluidProperties.Label = 'Water'\n",
    "    else:\n",
    "        desc = ''\n",
    "        App.ActiveDocument.FluidProperties.Label = 'Fluid'\n",
    "    App.ActiveDocument.FluidProperties.Material = {'CardName': name + type,\n",
    "                                       'AuthorAndLicence': '',\n",
    "                                       'Name': name,\n",
    "                                       'Type': type,\n",
    "                                       'Description': desc,\n",
    "                                       'Density': density,\n",
    "                                       'DynamicViscosity': dynamicViscosity}"
   ]
  },
  {
   "cell_type": "code",
   "execution_count": 14,
   "metadata": {},
   "outputs": [
    {
     "data": {
      "text/markdown": [
       "---\n",
       "\n",
       "### setup_fluid_properties\n",
       "\n",
       ">      setup_fluid_properties (name='Water', type='Isothermal', density='998\n",
       ">                              kg/m^3', dynamicViscosity='1.003e-3 kg/m/s')\n",
       "\n",
       "*Function to set up the fluid properties for CfdOF*"
      ],
      "text/plain": [
       "---\n",
       "\n",
       "### setup_fluid_properties\n",
       "\n",
       ">      setup_fluid_properties (name='Water', type='Isothermal', density='998\n",
       ">                              kg/m^3', dynamicViscosity='1.003e-3 kg/m/s')\n",
       "\n",
       "*Function to set up the fluid properties for CfdOF*"
      ]
     },
     "execution_count": 14,
     "metadata": {},
     "output_type": "execute_result"
    }
   ],
   "source": [
    "show_doc(setup_fluid_properties)"
   ]
  },
  {
   "cell_type": "code",
   "execution_count": 15,
   "metadata": {},
   "outputs": [],
   "source": [
    "#| hide\n",
    "import nbdev; nbdev.nbdev_export()"
   ]
  }
 ],
 "metadata": {
  "kernelspec": {
   "display_name": "opsidian",
   "language": "python",
   "name": "python3"
  },
  "language_info": {
   "codemirror_mode": {
    "name": "ipython",
    "version": 3
   },
   "file_extension": ".py",
   "mimetype": "text/x-python",
   "name": "python",
   "nbconvert_exporter": "python",
   "pygments_lexer": "ipython3",
   "version": "3.8.19"
  }
 },
 "nbformat": 4,
 "nbformat_minor": 2
}
