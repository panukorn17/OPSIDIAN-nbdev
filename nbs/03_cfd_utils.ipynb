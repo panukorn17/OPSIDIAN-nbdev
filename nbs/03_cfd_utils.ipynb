{
 "cells": [
  {
   "cell_type": "markdown",
   "metadata": {},
   "source": [
    "# CFD Utils\n",
    "\n",
    "> cfd utils"
   ]
  },
  {
   "cell_type": "code",
   "execution_count": null,
   "metadata": {},
   "outputs": [],
   "source": [
    "#| default_exp cfd_utils"
   ]
  },
  {
   "cell_type": "code",
   "execution_count": null,
   "metadata": {},
   "outputs": [],
   "source": [
    "#| hide\n",
    "from nbdev.showdoc import *"
   ]
  },
  {
   "cell_type": "code",
   "execution_count": null,
   "metadata": {},
   "outputs": [],
   "source": [
    "#| export\n",
    "import sys\n",
    "sys.path.append(\"..\")\n",
    "freecad_path = r\"C:\\Program Files\\FreeCAD 0.21\\bin\"\n",
    "cfdof_path = r'C:\\Users\\ASUS\\AppData\\Roaming\\FreeCAD\\Mod\\CfdOF'\n",
    "if freecad_path not in sys.path:    \n",
    "    sys.path.append(freecad_path)\n",
    "if cfdof_path not in sys.path:    \n",
    "    sys.path.append(cfdof_path)"
   ]
  },
  {
   "cell_type": "code",
   "execution_count": null,
   "metadata": {},
   "outputs": [],
   "source": [
    "#| export\n",
    "import FreeCAD as App\n",
    "import CfdOF"
   ]
  },
  {
   "cell_type": "code",
   "execution_count": null,
   "metadata": {},
   "outputs": [],
   "source": [
    "#| export\n",
    "def create_analysis_container():\n",
    "    \"\"\"\n",
    "    Function to create the analysis container on freeCAD\n",
    "\n",
    "    Parameters:\n",
    "    shape (Part.Shape): The object to be analysed\n",
    "    \"\"\"\n",
    "    # create a cfd analysis group object\n",
    "    analysis = CfdOF.CfdAnalysis.makeCfdAnalysis('CfdAnalysis')\n",
    "    CfdOF.CfdTools.setActiveAnalysis(analysis)\n",
    "    analysis.addObject(CfdOF.Solve.CfdPhysicsSelection.makeCfdPhysicsSelection())\n",
    "    analysis.addObject(CfdOF.Solve.CfdFluidMaterial.makeCfdFluidMaterial('FluidProperties'))\n",
    "    analysis.addObject(CfdOF.Solve.CfdInitialiseFlowField.makeCfdInitialFlowField())\n",
    "    analysis.addObject(CfdOF.Solve.CfdSolverFoam.makeCfdSolverFoam())"
   ]
  },
  {
   "cell_type": "code",
   "execution_count": null,
   "metadata": {},
   "outputs": [],
   "source": [
    "#| export\n",
    "def setup_fluid_properties(name='Water', type='Isothermal', density='998 kg/m^3', dynamicViscosity='1.003e-3 kg/m/s'):\n",
    "    \"\"\"\n",
    "    Function to set up the fluid properties for CfdOF\n",
    "    \"\"\"\n",
    "    print(\"Setting up fluid proberties\")\n",
    "    if name == 'Water':\n",
    "        desc = 'Standard distilled water properties at 20 Degrees Celsius and 1 atm'\n",
    "        App.ActiveDocument.FluidProperties.Label = 'Water'\n",
    "    else:\n",
    "        desc = ''\n",
    "        App.ActiveDocument.FluidProperties.Label = 'Fluid'\n",
    "    App.ActiveDocument.FluidProperties.Material = {'CardName': name + type,\n",
    "                                       'AuthorAndLicence': '',\n",
    "                                       'Name': name,\n",
    "                                       'Type': type,\n",
    "                                       'Description': desc,\n",
    "                                       'Density': density,\n",
    "                                       'DynamicViscosity': dynamicViscosity}"
   ]
  },
  {
   "cell_type": "code",
   "execution_count": null,
   "metadata": {},
   "outputs": [],
   "source": [
    "#| hide\n",
    "import nbdev; nbdev.nbdev_export()"
   ]
  }
 ],
 "metadata": {
  "kernelspec": {
   "display_name": "python3",
   "language": "python",
   "name": "python3"
  }
 },
 "nbformat": 4,
 "nbformat_minor": 2
}
