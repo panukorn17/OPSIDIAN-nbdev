{
 "cells": [
  {
   "cell_type": "markdown",
   "metadata": {},
   "source": [
    "# Preprocess\n",
    "\n",
    "> Functions to preprocess the data"
   ]
  },
  {
   "cell_type": "code",
   "execution_count": 1,
   "metadata": {},
   "outputs": [],
   "source": [
    "#| default_exp preprocess"
   ]
  },
  {
   "cell_type": "code",
   "execution_count": 2,
   "metadata": {},
   "outputs": [
    {
     "name": "stdout",
     "output_type": "stream",
     "text": [
      "Cleaned sys.path:\n",
      "c:\\Users\\ASUS\\anaconda3\\envs\\opsidian\n",
      "c:\\Users\\ASUS\\anaconda3\\envs\\opsidian\\lib\\site-packages\n",
      "C:\\Program Files\\FreeCAD 0.21\\bin\n",
      "C:\\Users\\ASUS\\AppData\\Roaming\\FreeCAD\\Mod\\CfdOF\n",
      "C:\\Users\\ASUS\\AppData\\Roaming\\Python\\Python38\\site-packages\n",
      "C:\\Users\\ASUS\\AppData\\Roaming\\Python\\Python38\\site-packages\\win32\n",
      "C:\\Users\\ASUS\\AppData\\Roaming\\Python\\Python38\\site-packages\\win32\\lib\n",
      "C:\\Users\\ASUS\\AppData\\Roaming\\Python\\Python38\\site-packages\\Pythonwin\n",
      "Cleaned sys.path:\n",
      "c:\\Users\\ASUS\\anaconda3\\envs\\opsidian\n",
      "c:\\Users\\ASUS\\anaconda3\\envs\\opsidian\\lib\\site-packages\n",
      "C:\\Program Files\\FreeCAD 0.21\\bin\n",
      "C:\\Users\\ASUS\\AppData\\Roaming\\FreeCAD\\Mod\\CfdOF\n",
      "C:\\Users\\ASUS\\AppData\\Roaming\\FreeCAD\\Mod\\CfdOF\\.\\\n",
      "C:\\Program Files\\FreeCAD 0.21\\Mod\\Web\n",
      "C:\\Program Files\\FreeCAD 0.21\\Mod\\Tux\n",
      "C:\\Program Files\\FreeCAD 0.21\\Mod\\Test\n",
      "C:\\Program Files\\FreeCAD 0.21\\Mod\\TechDraw\n",
      "C:\\Program Files\\FreeCAD 0.21\\Mod\\Surface\n",
      "C:\\Program Files\\FreeCAD 0.21\\Mod\\Start\n",
      "C:\\Program Files\\FreeCAD 0.21\\Mod\\Spreadsheet\n",
      "C:\\Program Files\\FreeCAD 0.21\\Mod\\Sketcher\n",
      "C:\\Program Files\\FreeCAD 0.21\\Mod\\Show\n",
      "C:\\Program Files\\FreeCAD 0.21\\Mod\\Robot\n",
      "C:\\Program Files\\FreeCAD 0.21\\Mod\\ReverseEngineering\n",
      "C:\\Program Files\\FreeCAD 0.21\\Mod\\Points\n",
      "C:\\Users\\ASUS\\AppData\\Roaming\\FreeCAD\\Mod\\Plot\\.\\\n",
      "C:\\Users\\ASUS\\AppData\\Roaming\\FreeCAD\\Mod\\Plot\n",
      "C:\\Program Files\\FreeCAD 0.21\\Mod\\Path\n",
      "C:\\Program Files\\FreeCAD 0.21\\Mod\\PartDesign\n",
      "C:\\Program Files\\FreeCAD 0.21\\Mod\\Part\n",
      "C:\\Program Files\\FreeCAD 0.21\\Mod\\OpenSCAD\n",
      "C:\\Program Files\\FreeCAD 0.21\\Mod\\MeshPart\n",
      "C:\\Program Files\\FreeCAD 0.21\\Mod\\Mesh\n",
      "C:\\Program Files\\FreeCAD 0.21\\Mod\\Measure\n",
      "C:\\Program Files\\FreeCAD 0.21\\Mod\\Material\n",
      "C:\\Program Files\\FreeCAD 0.21\\Mod\\Inspection\n",
      "C:\\Program Files\\FreeCAD 0.21\\Mod\\Import\n",
      "C:\\Program Files\\FreeCAD 0.21\\Mod\\Idf\n",
      "C:\\Program Files\\FreeCAD 0.21\\Mod\\Fem\n",
      "C:\\Program Files\\FreeCAD 0.21\\Mod\\Draft\n",
      "C:\\Program Files\\FreeCAD 0.21\\Mod\\Arch\n",
      "C:\\Program Files\\FreeCAD 0.21\\Mod\\AddonManager\n",
      "C:\\Program Files\\FreeCAD 0.21\\Mod\n",
      "C:\\Program Files\\FreeCAD 0.21\\lib\n",
      "C:\\Program Files\\FreeCAD 0.21\\Ext\n",
      "C:\\Users\\ASUS\\AppData\\Roaming\\Python\\Python38\\site-packages\n",
      "C:\\Users\\ASUS\\AppData\\Roaming\\Python\\Python38\\site-packages\\win32\n",
      "C:\\Users\\ASUS\\AppData\\Roaming\\Python\\Python38\\site-packages\\win32\\lib\n",
      "C:\\Users\\ASUS\\AppData\\Roaming\\Python\\Python38\\site-packages\\Pythonwin\n",
      "C:\\Users\\ASUS\\AppData\\Roaming\\FreeCAD\\Macro\\\n",
      "C:/Users/ASUS/AppData/Roaming/FreeCAD/Macro\n"
     ]
    }
   ],
   "source": [
    "#| hide\n",
    "from nbdev.showdoc import *\n",
    "import sys\n",
    "sys.path.append(\"..\")\n",
    "from OPSIDIAN_nbdev.cfd_utils import clean_sys_path\n",
    "clean_sys_path()"
   ]
  },
  {
   "cell_type": "code",
   "execution_count": 3,
   "metadata": {},
   "outputs": [],
   "source": [
    "#| export\n",
    "import csv\n",
    "import FreeCAD as App\n",
    "import Part\n",
    "import math\n",
    "from pathlib import Path\n",
    "from OPSIDIAN_nbdev.utils import gradient_to_spline_angle"
   ]
  },
  {
   "cell_type": "code",
   "execution_count": 4,
   "metadata": {},
   "outputs": [],
   "source": [
    "#| export\n",
    "centres = [(0, 0, 0), #plane 1\n",
    "            (5.333, 0, -144.623), #plane 2\n",
    "            (36.791, 0, -289.331), #plane 3\n",
    "            (91.665, 0, -426.512), #plane 4\n",
    "            (167.629, 0, -554.016), #plane 5\n",
    "            (279.67, 0, -656.591), #plane 6\n",
    "            (407.779, 0, -737.83), #plane 7\n",
    "            (536.748, 0, -799.26), #plane 8\n",
    "            (672.528, 0, -835.133), #plane 9\n",
    "            (814.82, 0, -847.56), #plane 10\n",
    "            (977.817, 0, -845.565), #plane 11\n",
    "            (1138.74, 0, -831.448), #plane 12\n",
    "            (1300.874, 0, -802.406), #plane 13\n",
    "            (1458.53, 0, -761.29), #plane 14\n",
    "            (1780.247, 0, -673.92), #plane 15\n",
    "            (2101.965, 0, -586.55), #plane 16\n",
    "            (2423.682, 0, -499.18), #plane 17\n",
    "            (2745.40, 0, -411.81), #plane 18\n",
    "            (3235.68, 0, -274.137), #plane 19\n",
    "            (3560.09, 0, -178.196), #plane 20\n",
    "            (3876.111, 0, -76.161), #plane 21\n",
    "            (4049.151, 0, -25.67), #plane 22\n",
    "            (4137.633, 0, -4.381), #plane 23\n",
    "            (4223.608, 0, 7.547), #plane 24\n",
    "            (4281.578, 0, 12.828), #plane 25\n",
    "            (4375.87, 0, 17.209)] #plane 26"
   ]
  },
  {
   "cell_type": "code",
   "execution_count": 5,
   "metadata": {},
   "outputs": [],
   "source": [
    "#| export\n",
    "def get_spline_details()->list: # List containing the spline details.\n",
    "    \"This function gets the spline details and calculates the angle of the spline at the plane in radians and degrees if the columns are not already present.\"\n",
    "    spline_details = []\n",
    "    path = '../data/spline/spline_details.csv'\n",
    "       \n",
    "    with open(Path(path), mode='r') as file:\n",
    "        reader = csv.DictReader(file)\n",
    "        for row in reader:\n",
    "            spline_details.append(row)\n",
    "\n",
    "    for row in spline_details:\n",
    "        if 'angle_rad' not in row:\n",
    "            tangent_grad = float(row['tangent_grad'])\n",
    "            angle_rad = gradient_to_spline_angle(tangent_grad)\n",
    "            row['angle_rad'] = angle_rad\n",
    "            row['angle_deg'] = math.degrees(angle_rad)\n",
    "\n",
    "    return spline_details"
   ]
  },
  {
   "cell_type": "code",
   "execution_count": 6,
   "metadata": {},
   "outputs": [
    {
     "data": {
      "text/markdown": [
       "---\n",
       "\n",
       "### get_spline_details\n",
       "\n",
       ">      get_spline_details ()\n",
       "\n",
       "*This function gets the spline details and calculates the angle of the spline at the plane in radians and degrees if the columns are not already present.*"
      ],
      "text/plain": [
       "---\n",
       "\n",
       "### get_spline_details\n",
       "\n",
       ">      get_spline_details ()\n",
       "\n",
       "*This function gets the spline details and calculates the angle of the spline at the plane in radians and degrees if the columns are not already present.*"
      ]
     },
     "execution_count": 6,
     "metadata": {},
     "output_type": "execute_result"
    }
   ],
   "source": [
    "show_doc(get_spline_details)"
   ]
  },
  {
   "cell_type": "code",
   "execution_count": 7,
   "metadata": {},
   "outputs": [],
   "source": [
    "#| export\n",
    "def get_cartesian_coords(centre_coords:tuple, # Tuple containing the centre coordinates.\n",
    "                         phi_rad:list, # List of phi angles in radians.\n",
    "                         polar_radial_distance:list, # List of polar radial distances.\n",
    "                         theta:float, # Angle of the spline at the plane in radians.\n",
    "                         )->list: # List containing the cartesian coordinates.\n",
    "    \"This function converts the local polar coordinates to cartesian coordinates.\"\n",
    "    cartesian_coords = []\n",
    "    for i in range(len(phi_rad)):\n",
    "        x_global = centre_coords[0] + polar_radial_distance[i] * math.cos(phi_rad[i]) * math.cos(theta) * 10\n",
    "        y_global = centre_coords[1] + polar_radial_distance[i] * math.sin(phi_rad[i]) * 10\n",
    "        z_global = centre_coords[2] + polar_radial_distance[i] * math.cos(phi_rad[i]) * math.sin(theta) * 10\n",
    "        cartesian_coords.append((x_global, y_global, z_global))\n",
    "    return cartesian_coords"
   ]
  },
  {
   "cell_type": "code",
   "execution_count": 8,
   "metadata": {},
   "outputs": [
    {
     "data": {
      "text/markdown": [
       "---\n",
       "\n",
       "### get_cartesian_coords\n",
       "\n",
       ">      get_cartesian_coords (centre_coords:tuple, phi_rad:list,\n",
       ">                            polar_radial_distance:list, theta:float)\n",
       "\n",
       "*This function converts the local polar coordinates to cartesian coordinates.*\n",
       "\n",
       "|    | **Type** | **Details** |\n",
       "| -- | -------- | ----------- |\n",
       "| centre_coords | tuple | Tuple containing the centre coordinates. |\n",
       "| phi_rad | list | List of phi angles in radians. |\n",
       "| polar_radial_distance | list | List of polar radial distances. |\n",
       "| theta | float | Angle of the spline at the plane in radians. |\n",
       "| **Returns** | **list** | **List containing the cartesian coordinates.** |"
      ],
      "text/plain": [
       "---\n",
       "\n",
       "### get_cartesian_coords\n",
       "\n",
       ">      get_cartesian_coords (centre_coords:tuple, phi_rad:list,\n",
       ">                            polar_radial_distance:list, theta:float)\n",
       "\n",
       "*This function converts the local polar coordinates to cartesian coordinates.*\n",
       "\n",
       "|    | **Type** | **Details** |\n",
       "| -- | -------- | ----------- |\n",
       "| centre_coords | tuple | Tuple containing the centre coordinates. |\n",
       "| phi_rad | list | List of phi angles in radians. |\n",
       "| polar_radial_distance | list | List of polar radial distances. |\n",
       "| theta | float | Angle of the spline at the plane in radians. |\n",
       "| **Returns** | **list** | **List containing the cartesian coordinates.** |"
      ]
     },
     "execution_count": 8,
     "metadata": {},
     "output_type": "execute_result"
    }
   ],
   "source": [
    "show_doc(get_cartesian_coords)"
   ]
  },
  {
   "cell_type": "code",
   "execution_count": 9,
   "metadata": {},
   "outputs": [],
   "source": [
    "#| export\n",
    "def calculate_face_coords(baseline_factor:list, # List containing the baseline factors.\n",
    "                          )->list: # List containing the coordinates of the faces of the tube.\n",
    "    \"This function calculates the coordinates of the faces of the tube using the baseline factors to determine the shape of the face.\"\n",
    "    print('Calculating face coordinates...')\n",
    "    df_spline = get_spline_details()\n",
    "    faces_coordinates = []\n",
    "    for plane in range(1, 27):\n",
    "            phi_rad = []\n",
    "            polar_radial_distance = []\n",
    "            for baseline in range(1,3):\n",
    "                path = f'../data/baseline_{baseline}/plane_{plane}/polar_coordinates.csv'\n",
    "                with open(Path(path), mode='r') as file:\n",
    "                    reader = csv.DictReader(file)\n",
    "                    i = 0\n",
    "                    for row in reader:\n",
    "                        if baseline == 1:\n",
    "                            polar_radial_distance.append(baseline_factor[baseline-1]*float(row['radial_distance']))\n",
    "                            phi_rad.append(float(row['phi_rad']))\n",
    "                        else:\n",
    "                            polar_radial_distance[i] = (polar_radial_distance[i] + baseline_factor[baseline-1]*float(row['radial_distance']))\n",
    "                            i += 1\n",
    "            theta = float(next(row['angle_rad'] for row in df_spline if int(row['plane']) == plane))\n",
    "            cartesian_coords = get_cartesian_coords(centres[plane-1], phi_rad, polar_radial_distance, theta)\n",
    "            faces_coordinates.append(cartesian_coords)\n",
    "    return faces_coordinates"
   ]
  },
  {
   "cell_type": "code",
   "execution_count": 10,
   "metadata": {},
   "outputs": [
    {
     "data": {
      "text/markdown": [
       "---\n",
       "\n",
       "### calculate_face_coords\n",
       "\n",
       ">      calculate_face_coords (baseline_factor:list)\n",
       "\n",
       "*This function calculates the coordinates of the faces of the tube using the baseline factors to determine the shape of the face.*\n",
       "\n",
       "|    | **Type** | **Details** |\n",
       "| -- | -------- | ----------- |\n",
       "| baseline_factor | list | List containing the baseline factors. |\n",
       "| **Returns** | **list** | **List containing the coordinates of the faces of the tube.** |"
      ],
      "text/plain": [
       "---\n",
       "\n",
       "### calculate_face_coords\n",
       "\n",
       ">      calculate_face_coords (baseline_factor:list)\n",
       "\n",
       "*This function calculates the coordinates of the faces of the tube using the baseline factors to determine the shape of the face.*\n",
       "\n",
       "|    | **Type** | **Details** |\n",
       "| -- | -------- | ----------- |\n",
       "| baseline_factor | list | List containing the baseline factors. |\n",
       "| **Returns** | **list** | **List containing the coordinates of the faces of the tube.** |"
      ]
     },
     "execution_count": 10,
     "metadata": {},
     "output_type": "execute_result"
    }
   ],
   "source": [
    "show_doc(calculate_face_coords)"
   ]
  },
  {
   "cell_type": "code",
   "execution_count": 11,
   "metadata": {},
   "outputs": [],
   "source": [
    "#| export\n",
    "def generate_faces(faces_coordinate: list, # List containing the coordinates of the faces of the tube.\n",
    "                   )->list: # List containing the shapes of the faces.\n",
    "    \"This function generates faces in free cad using the calculated face coordinates.\"\n",
    "    face_shapes = []\n",
    "    for face_coords in faces_coordinate:\n",
    "        # create freeCAD points\n",
    "        vec_points = [App.Vector(p[0], p[1], p[2]) for p in face_coords[1:]]\n",
    "        vec_points.append(vec_points[0])\n",
    "\n",
    "        # create spline from points\n",
    "        spline = Part.BSplineCurve()\n",
    "        spline.interpolate(vec_points)\n",
    "\n",
    "        # Add spline to the app\n",
    "        obj = App.ActiveDocument.addObject('Part::Feature', 'Spline')\n",
    "        obj.Shape = spline.toShape()\n",
    "\n",
    "        # recompute the document\n",
    "        App.ActiveDocument.recompute()\n",
    "        face_shapes.append(obj)\n",
    "    return face_shapes"
   ]
  },
  {
   "cell_type": "code",
   "execution_count": 12,
   "metadata": {},
   "outputs": [
    {
     "data": {
      "text/markdown": [
       "---\n",
       "\n",
       "### generate_faces\n",
       "\n",
       ">      generate_faces (faces_coordinate:list)\n",
       "\n",
       "*This function generates faces in free cad using the calculated face coordinates.*\n",
       "\n",
       "|    | **Type** | **Details** |\n",
       "| -- | -------- | ----------- |\n",
       "| faces_coordinate | list | List containing the coordinates of the faces of the tube. |\n",
       "| **Returns** | **list** | **List containing the shapes of the faces.** |"
      ],
      "text/plain": [
       "---\n",
       "\n",
       "### generate_faces\n",
       "\n",
       ">      generate_faces (faces_coordinate:list)\n",
       "\n",
       "*This function generates faces in free cad using the calculated face coordinates.*\n",
       "\n",
       "|    | **Type** | **Details** |\n",
       "| -- | -------- | ----------- |\n",
       "| faces_coordinate | list | List containing the coordinates of the faces of the tube. |\n",
       "| **Returns** | **list** | **List containing the shapes of the faces.** |"
      ]
     },
     "execution_count": 12,
     "metadata": {},
     "output_type": "execute_result"
    }
   ],
   "source": [
    "show_doc(generate_faces)"
   ]
  },
  {
   "cell_type": "code",
   "execution_count": 13,
   "metadata": {},
   "outputs": [],
   "source": [
    "#| export\n",
    "def add_spine()->Part.Shape: # Shape of the spine.\n",
    "    \"This function adds the spine to the freeCAD document.\"\n",
    "    # create freeCAD points\n",
    "    spine_points = [App.Vector(coord[0], coord[1], coord[2]) for coord in centres]\n",
    "\n",
    "    # create spline from points\n",
    "    spine = Part.BSplineCurve()\n",
    "    spine.interpolate(spine_points)\n",
    "\n",
    "    # Add spline to the app\n",
    "    obj = App.ActiveDocument.addObject('Part::Feature', 'Spine')\n",
    "    obj.Shape = spine.toShape()\n",
    "\n",
    "    # recompute the document\n",
    "    App.ActiveDocument.recompute()\n",
    "\n",
    "    return obj"
   ]
  },
  {
   "cell_type": "code",
   "execution_count": 14,
   "metadata": {},
   "outputs": [
    {
     "data": {
      "text/markdown": [
       "---\n",
       "\n",
       "### add_spine\n",
       "\n",
       ">      add_spine ()\n",
       "\n",
       "*This function adds the spine to the freeCAD document.*"
      ],
      "text/plain": [
       "---\n",
       "\n",
       "### add_spine\n",
       "\n",
       ">      add_spine ()\n",
       "\n",
       "*This function adds the spine to the freeCAD document.*"
      ]
     },
     "execution_count": 14,
     "metadata": {},
     "output_type": "execute_result"
    }
   ],
   "source": [
    "show_doc(add_spine)"
   ]
  },
  {
   "cell_type": "code",
   "execution_count": 15,
   "metadata": {},
   "outputs": [],
   "source": [
    "#| export\n",
    "def sweep(face_shapes: list, # List containing the shapes of the faces.\n",
    "          spine: Part.Shape, # Shape of the spine.\n",
    "          )->Part.Shape: # Shape of the sweep.\n",
    "    \"This function performs a sweep operation in freeCAD.\"\n",
    "    # create sweep object\n",
    "    sweep = App.ActiveDocument.addObject('Part::Sweep', 'Sweep')\n",
    "    sweep.Sections = face_shapes\n",
    "    sweep.Spine = (spine,['Edge1',])\n",
    "    sweep.Solid = True\n",
    "    sweep.Frenet = False\n",
    "\n",
    "    # recompute the document\n",
    "    App.ActiveDocument.recompute()\n",
    "\n",
    "    return sweep"
   ]
  },
  {
   "cell_type": "code",
   "execution_count": 16,
   "metadata": {},
   "outputs": [
    {
     "data": {
      "text/markdown": [
       "---\n",
       "\n",
       "### sweep\n",
       "\n",
       ">      sweep (face_shapes:list, spine:Part.Shape)\n",
       "\n",
       "*This function performs a sweep operation in freeCAD.*\n",
       "\n",
       "|    | **Type** | **Details** |\n",
       "| -- | -------- | ----------- |\n",
       "| face_shapes | list | List containing the shapes of the faces. |\n",
       "| spine | Shape | Shape of the spine. |\n",
       "| **Returns** | **Shape** | **Shape of the sweep.** |"
      ],
      "text/plain": [
       "---\n",
       "\n",
       "### sweep\n",
       "\n",
       ">      sweep (face_shapes:list, spine:Part.Shape)\n",
       "\n",
       "*This function performs a sweep operation in freeCAD.*\n",
       "\n",
       "|    | **Type** | **Details** |\n",
       "| -- | -------- | ----------- |\n",
       "| face_shapes | list | List containing the shapes of the faces. |\n",
       "| spine | Shape | Shape of the spine. |\n",
       "| **Returns** | **Shape** | **Shape of the sweep.** |"
      ]
     },
     "execution_count": 16,
     "metadata": {},
     "output_type": "execute_result"
    }
   ],
   "source": [
    "show_doc(sweep)"
   ]
  },
  {
   "cell_type": "code",
   "execution_count": 17,
   "metadata": {},
   "outputs": [],
   "source": [
    "#| hide\n",
    "import nbdev; nbdev.nbdev_export()"
   ]
  }
 ],
 "metadata": {
  "kernelspec": {
   "display_name": "opsidian",
   "language": "python",
   "name": "python3"
  },
  "language_info": {
   "codemirror_mode": {
    "name": "ipython",
    "version": 3
   },
   "file_extension": ".py",
   "mimetype": "text/x-python",
   "name": "python",
   "nbconvert_exporter": "python",
   "pygments_lexer": "ipython3",
   "version": "3.8.19"
  }
 },
 "nbformat": 4,
 "nbformat_minor": 2
}
